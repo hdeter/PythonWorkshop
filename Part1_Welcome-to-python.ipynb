{
 "cells": [
  {
   "cell_type": "markdown",
   "metadata": {},
   "source": [
    "<h1>Welcome to Python - Python Tutorial Part 1</h1>\n",
    "<h4>By: Heather S. Deter</h4>"
   ]
  },
  {
   "cell_type": "markdown",
   "metadata": {},
   "source": [
    "The purpose of this series is to get you familiar with concepts in Python 3.7. There are several online tutorials available for further study and clarification.\n",
    "\n",
    "<u>Tutorials:</u><br>\n",
    "<https://developers.google.com/edu/python/><br>\n",
    "<https://www.learnpython.org/>\n",
    "\n",
    "\n",
    "<b>Helpful tips for Jupyter:</b>\n",
    "<li>A list of shortcuts is available under the Help menu; alternatively hit Esc then H</li>\n",
    "<li>To run a cell use Ctrl + Enter</li>\n",
    "<li>To save a new version of your notebook use File -> Make a Copy...</li>"
   ]
  },
  {
   "cell_type": "markdown",
   "metadata": {},
   "source": [
    "<h3>1. How to use comments</h3>\n",
    "<li>Comments are used to annotate the script for humans (they are ignored by the computer)</li>\n",
    "<li><b>Good comments are critical to maintaining and editing code</b></li>\n",
    "<li>Comments are useful for both others who use your code and yourself</li>\n",
    "<li>Poorly commented code can be incredibly difficult to update or edit</li>\n",
    "\n",
    "```python\n",
    "##hashtags indicate a comment in python\n",
    "#comments can also be used to ignore a line of code without removing it\n",
    "# In jupyter multiple lines can be commented out by highlighting the lines then using \"Ctrl + /\"\n",
    "```\n"
   ]
  },
  {
   "cell_type": "markdown",
   "metadata": {},
   "source": [
    "<h3>2. Basic Datatypes</h3>\n",
    "<p>There are several datatypes used in python, we will briefly review them in this chapter.</p>\n",
    "\n",
    "<h4>Integers</h4>\n",
    "<p>Whole numbers are integers in python.</p>\n",
    "\n",
    "```python\n",
    "#integers\n",
    "1\n",
    "2\n",
    "3\n",
    "```\n",
    "\n",
    "<h4>Floats</h4>\n",
    "<p>Numbers with decimals are floats.</p>\n",
    "\n",
    "```python\n",
    "#floats\n",
    "1.0\n",
    "3.14\n",
    "0.00000023\n",
    "```\n",
    "\n",
    "<h4>Strings</h4>\n",
    "<p>Any set of characters can be represented as a string. <br>\n",
    "    Strings are indicated by either ' or \" <br>\n",
    "    Some characters including ',\", and \\ must be prefaced with a forward slash (\\) to be included in the string.<br>\n",
    "    To have a line break use '\\n' to indicate a new line.\n",
    "</p>\n",
    "\n",
    "```python\n",
    "#strings\n",
    "'Hello World'\n",
    "'3 Apples, 5 Bananas'\n",
    "'20,000 Leagues Under the Sea'\n",
    "'All the King\\'s Horses'\n",
    "```\n",
    "\n",
    "<h4>Boolean</h4>\n",
    "<p>True/False values are referred to as booleans.<p>\n",
    "    \n",
    "```python\n",
    "#booleans\n",
    "True\n",
    "False\n",
    "```\n"
   ]
  },
  {
   "cell_type": "markdown",
   "metadata": {},
   "source": [
    "<h3>3. Hello World</h3>\n",
    "<p>Print statements are used to output data for the user to visualize data and variables.</p>\n",
    "    \n",
    "```python\n",
    "print('Hello World')\n",
    "```\n",
    "<b>Run the code yourself below</b>"
   ]
  },
  {
   "cell_type": "code",
   "execution_count": null,
   "metadata": {},
   "outputs": [],
   "source": [
    "#try printing the string Hello World yourself\n",
    "\n",
    "\n"
   ]
  },
  {
   "cell_type": "code",
   "execution_count": null,
   "metadata": {},
   "outputs": [],
   "source": [
    "#If you add a comma after the thing being printed the next thing you type will be printed on the same line\n",
    "#run this cell\n",
    "print('Hello World', '- A programmer\\'s first words')"
   ]
  },
  {
   "cell_type": "markdown",
   "metadata": {},
   "source": [
    "<p><b>You can also convert between datatypes using the following code.</b></p>\n",
    "\n",
    "```python\n",
    "#convert to a string\n",
    "str()\n",
    "\n",
    "#convert to an integer\n",
    "int() #this will round a float to the nearest whole number\n",
    "\n",
    "#convert to a float\n",
    "float()\n",
    "```"
   ]
  },
  {
   "cell_type": "markdown",
   "metadata": {},
   "source": [
    "<h3>4. Math</h3>\n",
    "<p>Basic mathmatical functions are available in python.</p>"
   ]
  },
  {
   "cell_type": "code",
   "execution_count": null,
   "metadata": {},
   "outputs": [],
   "source": [
    "#run the code below\n",
    "print('Addition:', 2+2)\n",
    "print('Subtraction:', 4-2)\n",
    "print('Division:', 24/6)\n",
    "print('Multiplication:', 3*12)\n",
    "print('Exponents', 2**4)"
   ]
  },
  {
   "cell_type": "markdown",
   "metadata": {},
   "source": [
    "<h3>5. Objects</h3>\n",
    "<p>Python is an object oriented programming language.<br>\n",
    "    Objects are essentially a <i>thing</i> that you can define or output using other code.<br>\n",
    "</p>\n",
    "\n",
    "<b> An example of defining an object is below.</b>\n"
   ]
  },
  {
   "cell_type": "code",
   "execution_count": null,
   "metadata": {},
   "outputs": [],
   "source": [
    "#run this cell\n",
    "mystring = 'Hello World'\n",
    "print(mystring)"
   ]
  },
  {
   "cell_type": "markdown",
   "metadata": {},
   "source": [
    "<b>Objects stand in for what you assign them, therefore anything you can do with the value you can do with the object.</b>\n",
    "<p><b>Example</b><br>\n",
    "    1. Nicholas has 6 apples and Prajakta gives him 12 apples. How many apples are does Nicholas have?<br>\n",
    "    2. Nicholas gives half of his apples to Heather, who eats 3 apples. How many apples does Heather have?<br>\n",
    "    3. Tahmina offers to give Nicholas three times more oranges than he has apples. How many oranges should Tahmina give Nicholas?\n",
    "</p>\n"
   ]
  },
  {
   "cell_type": "code",
   "execution_count": null,
   "metadata": {},
   "outputs": [],
   "source": [
    "#You can use do math with objects\n",
    "##run this cell to see the answers\n",
    "\n",
    "##1. Nicholas has 6 apples and Prajakta gives him 12 apples. How many apples are does Nicholas have?\n",
    "#Starting number of apples\n",
    "Nicholas = 6\n",
    "Prajakta = 12\n",
    "\n",
    "#Prajakta gives Nicholas her apples\n",
    "Nicholas = Nicholas + Prajakta\n",
    "\n",
    "##2. Nicholas gives half of his apples to Heather, who eats 3 apples. How many apples does Heather have?\n",
    "#Nicholas gives Heather apples\n",
    "Nicholas = Nicholas/2\n",
    "Heather = Nicholas - 3\n",
    "\n",
    "##3. Tahmina offers to give Nicholas three times more oranges than he has apples. \n",
    "###  How many oranges should Tahmina give Nicholas?\n",
    "\n",
    "#Tahmina give Nicholas oranges\n",
    "Tahmina = 3*Nicholas\n",
    "\n",
    "print('1. Nicholas has', Nicholas, 'apples')\n",
    "print('2. Heather has', Heather, 'apples')\n",
    "print('3. Tahmina gives Nicholas', Tahmina, 'oranges')"
   ]
  },
  {
   "cell_type": "markdown",
   "metadata": {},
   "source": [
    "<h4>An important note on naming objects</h4>\n",
    "<p>Understanding what an object represents is critical to understanding your code.<br>\n",
    "    <u>Always name an object something that makes sense (be brief and descriptive)</u>.</p>\n",
    "    \n",
    "```python\n",
    "#bad names\n",
    "x = 'Hello World' #single letters are commonly used in other sections of code and are not descriptive\n",
    "ThatonestringIwrotebecauseyoutoldmeto = 'Hello World' #I can't even read that\n",
    "\n",
    "#good names\n",
    "greeting = 'Hello World'\n",
    "mystring = 'Hello World'\n",
    "intro = 'Hello World'\n",
    "```\n",
    "<b>Also avoid names that are commonly used commands, classes, etc. in python</b>\n",
    "\n",
    "```python\n",
    "#bad name\n",
    "str = 'Hello World' #str is used to denote strings in python and should not be an object\n",
    "```\n",
    "<u>If it turns any color other than black when using jupyter rule of thumb is do not use it</u>."
   ]
  },
  {
   "cell_type": "markdown",
   "metadata": {},
   "source": [
    "<h3>String, strings and more strings</h3>\n",
    "<p>Strings are the heart of interacting with user input, and there is a lot you can do with strings.<br>\n",
    "Python strings are \"immutable\" which means they cannot be changed after they are created, unless you reassign the object.</p>\n",
    "\n",
    "\n",
    "<h4>Slicing</h4>\n",
    "<p>It is helpful to think of strings in their discret units. \"Slicing\" is taking sections of the string to create a sub-string.<br>\n",
    "    The command len() is used to determine the length of a string.<br>\n",
    "    Strings can be sliced by using square brackets containing the coordinates (see example below).</p>"
   ]
  },
  {
   "cell_type": "code",
   "execution_count": null,
   "metadata": {
    "scrolled": true
   },
   "outputs": [],
   "source": [
    "#run this cell\n",
    "mystring = 'Hello World'\n",
    "firstword = mystring[0:5]\n",
    "\n",
    "print(mystring)\n",
    "print('Length:', len(mystring))\n",
    "print('First word:', firstword)"
   ]
  },
  {
   "cell_type": "markdown",
   "metadata": {},
   "source": [
    "<b>It is important to note that Python starts counting at zero and finishes at x-1 from the indicated value (where x=5 in the above example)</b><br>\n",
    "Length however determines the number of characters (i.e. the last character of mystring is 10, but the length of mystring is 11)"
   ]
  },
  {
   "cell_type": "code",
   "execution_count": null,
   "metadata": {},
   "outputs": [],
   "source": [
    "##Try out string slicing for yourself\n",
    "#see if you can print the word \"list\" by slicing the word below\n",
    "superstring = 'supercalifragilisticexpialidocious'\n",
    "\n"
   ]
  },
  {
   "cell_type": "markdown",
   "metadata": {},
   "source": [
    "<b>There are all sorts of other things you can do with strings which are described here:</b> <https://docs.python.org/3/library/stdtypes.html#string-methods>"
   ]
  },
  {
   "cell_type": "code",
   "execution_count": null,
   "metadata": {
    "scrolled": true
   },
   "outputs": [],
   "source": [
    "#run these cells to see some examples below\n",
    "\n",
    "print('Example: str.replace(old,new)')\n",
    "#str.replace(old,new) replaces the 'old' substring with the 'new' substring\n",
    "newstring = mystring.replace('World','Universe')\n",
    "print(newstring)\n",
    "\n",
    "print('\\nExample str.split()')\n",
    "#str.split() returns a list of words (everything seperated by a space)\n",
    "stringwords = newstring.split()\n",
    "print(stringwords)"
   ]
  },
  {
   "cell_type": "markdown",
   "metadata": {},
   "source": [
    "<h3>\"Variable strings\"</h3>\n",
    "<p>Python has a printf()-like facility, which basically means you can put in a variable to be defined later.<br>\n",
    "    This is done using the % symbol.</p>\n",
    "\n",
    "<b>Examples</b>\n",
    "```python\n",
    "#integers are indicated by %d\n",
    "'Volker has %d sheep in his office'\n",
    "\n",
    "#strings are indicated by %s\n",
    "'%s met with Volker today'\n",
    "\n",
    "#the variable is also filled in using %\n",
    "#for example\n",
    "print('Volker has %d sheep in his office' %3)\n",
    "```\n",
    "<b>Run the cell below to see the code in action</b>"
   ]
  },
  {
   "cell_type": "code",
   "execution_count": null,
   "metadata": {},
   "outputs": [],
   "source": [
    "#run this cell\n",
    "statement1 = '%s met with Volker today'\n",
    "student = 'Stephanie'\n",
    "\n",
    "print(statement1 %student)\n",
    "\n",
    "statement2 = 'Volker has %d sheep in his office'\n",
    "sheep = 17\n",
    "\n",
    "print(statement2 %sheep)\n",
    "\n",
    "##you can have multiple variables\n",
    "statement3 = '%s put %d sheep in Volker\\'s office'\n",
    "\n",
    "print(statement3 %(student,sheep))"
   ]
  },
  {
   "cell_type": "markdown",
   "metadata": {},
   "source": [
    "<h2>Practice problems</h2>\n",
    "<h3>Problem 1</h3>\n",
    "<p>Elise gets into the lab early in the morning to count the number of colonies on her plates (Table 1).<br>\n",
    "    Courtney comes in that afternoon and counts the same plates (Table 2). Calculate and print your answers for the following problems in the cell below.<br><br>\n",
    "    a. Calculate the average  for both Elise's and Courtney's results.<br>\n",
    "    b. Calculate the percent difference.</p>\n",
    "<table align = 'left'>\n",
    "    <tr>\n",
    "        <th>Table 1</th>\n",
    "    </tr>\n",
    "    <tr>\n",
    "        <th>Plate</th>\n",
    "        <th>Colonies</th>\n",
    "        <th></th>\n",
    "    </tr>\n",
    "    <tr>\n",
    "        <td>1</td>\n",
    "        <td>200</td>\n",
    "    </tr>\n",
    "    <tr>\n",
    "        <td>2</td>\n",
    "        <td>232</td>\n",
    "    </tr>\n",
    "    <tr>\n",
    "        <td>3</td>\n",
    "        <td>201</td>\n",
    "    </tr>\n",
    "    <tr>\n",
    "        <td>4</td>\n",
    "        <td>195</td>\n",
    "    </tr>\n",
    "    <tr>\n",
    "        <td>5</td>\n",
    "        <td>225</td>\n",
    "    </tr>\n",
    "    <tr>\n",
    "        <td>6</td>\n",
    "        <td>217</td>\n",
    "    </tr>\n",
    "\n",
    "</table>\n",
    "\n",
    "<table align = 'left'>\n",
    "    <tr>\n",
    "        <th>Table 2</th>\n",
    "    </tr>\n",
    "    <tr>\n",
    "        <th>Plate</th>\n",
    "        <th>Colonies</th>\n",
    "    </tr>\n",
    "    <tr>\n",
    "        <td>1</td>\n",
    "        <td>193</td>\n",
    "    </tr>\n",
    "    <tr>\n",
    "        <td>2</td>\n",
    "        <td>238</td>\n",
    "    </tr>\n",
    "    <tr>\n",
    "        <td>3</td>\n",
    "        <td>195</td>\n",
    "    </tr>\n",
    "    <tr>\n",
    "        <td>4</td>\n",
    "        <td>199</td>\n",
    "    </tr>\n",
    "    <tr>\n",
    "        <td>5</td>\n",
    "        <td>229</td>\n",
    "    </tr>\n",
    "    <tr>\n",
    "        <td>6</td>\n",
    "        <td>213</td>\n",
    "    </tr>\n",
    "</table>"
   ]
  },
  {
   "cell_type": "code",
   "execution_count": null,
   "metadata": {},
   "outputs": [],
   "source": [
    "##Write a code below to answer the above question\n",
    "#Be sure to comment out your code (explain what each section is doing in comments)\n",
    "\n",
    "\n",
    "\n"
   ]
  },
  {
   "cell_type": "markdown",
   "metadata": {},
   "source": [
    "<h3>Problem 2</h3>\n",
    "<p>On the way to school Adrian and Charlie decide to sing <i>99 Bottles of Pop on the Wall</i>. Print the first ten verses without typing out 'bottles of pop on the wall' more than once in your code. <b>Hint:</b> use a \"variable string\" in your code."
   ]
  },
  {
   "cell_type": "code",
   "execution_count": null,
   "metadata": {},
   "outputs": [],
   "source": [
    "##Write a code below to answer the above question\n",
    "#Be sure to comment out your code (explain what each section is doing in comments)\n",
    "\n",
    "\n",
    "\n"
   ]
  }
 ],
 "metadata": {
  "kernelspec": {
   "display_name": "Python 3",
   "language": "python",
   "name": "python3"
  },
  "language_info": {
   "codemirror_mode": {
    "name": "ipython",
    "version": 3
   },
   "file_extension": ".py",
   "mimetype": "text/x-python",
   "name": "python",
   "nbconvert_exporter": "python",
   "pygments_lexer": "ipython3",
   "version": "3.6.8"
  }
 },
 "nbformat": 4,
 "nbformat_minor": 2
}
