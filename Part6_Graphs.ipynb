{
 "cells": [
  {
   "cell_type": "markdown",
   "metadata": {},
   "source": [
    "<h1>Graphs - Python Tutorial Part 6</h1>\n",
    "<h4>By: Heather S. Deter</h4>"
   ]
  },
  {
   "cell_type": "markdown",
   "metadata": {},
   "source": [
    "There are a couple of different options for graphing in python. The most common one is matplotlib <a>https://matplotlib.org/</a>. We're going to be using numpy arrays to organize our data. <a>http://www.numpy.org/</a>.<br>Pandas also has a built in graph function that uses matplotlib. https://pandas.pydata.org/pandas-docs/stable/reference/api/pandas.DataFrame.plot.html<br>\n",
    "<h3>Let's try it out.</h3> <h4>1. Get some data.</h4> We are going to be using data from an antibiotic survival test with and without induction of a synthetic circuit. The population is measured in colony forming units per millileter (CFU/ml). "
   ]
  },
  {
   "cell_type": "code",
   "execution_count": null,
   "metadata": {},
   "outputs": [],
   "source": [
    "#run this cell\n",
    "\n",
    "import numpy as np\n",
    "import matplotlib.pyplot as plt\n",
    "\n",
    "# import some data using numpy\n",
    "CSVname = 'C:/Users/owner/Documents/research/scripts/learn-python/Persister-data.csv'\n",
    "\n",
    "#skip the header so that everything we import is a number\n",
    "DATA = np.genfromtxt(CSVname, delimiter = ',',skip_header = 1)\n",
    "\n",
    "print(DATA)"
   ]
  },
  {
   "cell_type": "markdown",
   "metadata": {},
   "source": [
    "<h4>2. Separate the data and do some calculations.</h4>"
   ]
  },
  {
   "cell_type": "code",
   "execution_count": null,
   "metadata": {},
   "outputs": [],
   "source": [
    "#let's separate out the data according to treatment\n",
    "##we could just slice it, but a more flexible method is to use np.where\n",
    "\n",
    "#first make a copy of the data so that we keep the orginial\n",
    "data = np.copy(DATA)\n",
    "\n",
    "#get the treated location\n",
    "treatedloc = np.where(data[:,1] == 100)[0]\n",
    "\n",
    "#slice the data using treatedloc\n",
    "treated = data[treatedloc,2]\n",
    "untreated = np.delete(data[:,2],treatedloc)\n",
    "\n",
    "print(treated)\n",
    "print(untreated)"
   ]
  },
  {
   "cell_type": "code",
   "execution_count": null,
   "metadata": {},
   "outputs": [],
   "source": [
    "#calculate mean and std\n",
    "tmean = np.mean(treated)\n",
    "umean = np.mean(untreated)\n",
    "tstd = np.std(treated)\n",
    "ustd = np.std(untreated)\n",
    "\n",
    "print('treated',tmean,tstd)\n",
    "print('untreated',umean,ustd)"
   ]
  },
  {
   "cell_type": "markdown",
   "metadata": {},
   "source": [
    "<h4>3. Plot a bargraph.</h4>"
   ]
  },
  {
   "cell_type": "code",
   "execution_count": null,
   "metadata": {},
   "outputs": [],
   "source": [
    "#now we make a bargraph\n",
    "plt.figure()\n",
    "plt.bar([1,2],[tmean,umean])"
   ]
  },
  {
   "cell_type": "markdown",
   "metadata": {},
   "source": [
    "<h4>4. Make it pretty. This is where referring to the documentation is super helpful. <a>https://matplotlib.org/api/_as_gen/matplotlib.pyplot.bar.html</a>"
   ]
  },
  {
   "cell_type": "code",
   "execution_count": null,
   "metadata": {},
   "outputs": [],
   "source": [
    "#first we give the figure a size (x,y)\n",
    "plt.figure(figsize = (3,5))\n",
    "\n",
    "#add some errorbars when we plot the bargraph (yerr), make it green (color), and give the errorbars caps (capsize)\n",
    "plt.bar([1,2],[tmean,umean],yerr = [tstd,ustd],color = ['g'],capsize = 5)\n",
    "\n",
    "#add axis titles\n",
    "plt.xlabel('Group')\n",
    "plt.ylabel('CFU/ml')\n",
    "\n",
    "#give the plot a title\n",
    "plt.title('Survival')\n",
    "\n",
    "#label the x-axis ticks\n",
    "plt.xticks([1,2],['Treated','Untreated'])\n",
    "\n",
    "#save the figure\n",
    "##to save the figure uncomment the line below and change the path as you desire\n",
    "\n",
    "# plt.savefig('BarGraph.png')"
   ]
  },
  {
   "cell_type": "markdown",
   "metadata": {},
   "source": [
    "<h2>Practice Problem</h2>\n",
    "\n",
    "We are going to make a scatterplot. It's just like making a bargraph, but instead of plt.bar() we will use plt.scatter(). See <a>https://matplotlib.org/api/_as_gen/matplotlib.pyplot.scatter.html#matplotlib.pyplot.scatter</a>. Use the Walleye energy dataset (Walleyenergy.csv), plot both the open-water and near-shore on the same graph in two different colors. Try adding a legend. <a>https://matplotlib.org/api/_as_gen/matplotlib.pyplot.legend.html</a>"
   ]
  },
  {
   "cell_type": "code",
   "execution_count": null,
   "metadata": {},
   "outputs": [],
   "source": [
    "##Write a code below to answer the above question\n",
    "#Be sure to comment out your code (explain what each section is doing in comments)\n",
    "\n",
    "\n",
    "\n",
    "\n",
    "\n"
   ]
  }
 ],
 "metadata": {
  "kernelspec": {
   "display_name": "Python 3",
   "language": "python",
   "name": "python3"
  },
  "language_info": {
   "codemirror_mode": {
    "name": "ipython",
    "version": 3
   },
   "file_extension": ".py",
   "mimetype": "text/x-python",
   "name": "python",
   "nbconvert_exporter": "python",
   "pygments_lexer": "ipython3",
   "version": "3.6.8"
  }
 },
 "nbformat": 4,
 "nbformat_minor": 2
}
