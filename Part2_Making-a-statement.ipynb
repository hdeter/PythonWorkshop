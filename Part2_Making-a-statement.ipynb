{
 "cells": [
  {
   "cell_type": "markdown",
   "metadata": {},
   "source": [
    "<h1>Making a Statement - Python Tutorial Part 2</h1>\n",
    "<h4>By: Heather S. Deter</h4>"
   ]
  },
  {
   "cell_type": "markdown",
   "metadata": {},
   "source": [
    "There are many statements used in programming to control the flow of the script. Here we introduce several key statements in Python. \n",
    "\n",
    "<h3>First a note on whitespace</h3>\n",
    "<p>Python uses whitespace to denote which sections of code should be run under specific conditions and pieces of code.<br>\n",
    "    Here we go through several statements that are indicated by a colon (:) followed by and indented block of text (<b>use tab to indent text for consistency</b>).<br>\n",
    "    When checking for errors always check the colons and indentations.</p>\n",
    "    \n",
    "<p>Statement:<br>\n",
    "     &emsp;A block of text with code and stuff<p>\n",
    "\n",
    "<h3>If statements</h3>\n",
    "<p>To check whether or not a condition is true before running the code we can use an if statement. Adding not before the statement checks for the opposite of the condition.</p>\n",
    "<h4>Examples</h4>\n",
    "\n",
    "```python\n",
    "#if statements can be used with booleans\n",
    "if True:\n",
    "    print 'It is true'\n",
    "if False:\n",
    "    print 'It is false'\n",
    "if not True:\n",
    "    print 'It is false'\n",
    "    \n",
    "#if statements can also be used to test for a specific condition\n",
    "mynumber = 5\n",
    "if mynumber == 5:\n",
    "    print 'My number is 5'\n",
    "if not mynumber == 5:\n",
    "    print 'My number is not 5'\n",
    "```\n",
    "<p>When testing for conditions there are several comparison operators you can use.<br></p>\n",
    "<table align = 'left'>\n",
    "    <tr>\n",
    "        <th>Operator</th>\n",
    "        <th>Definition</th>\n",
    "    </tr>\n",
    "    <tr>\n",
    "        <td>==</td>\n",
    "        <td>Equal to</td>\n",
    "    </tr>\n",
    "    <tr>\n",
    "        <td>></td>\n",
    "        <td>Greater than</td>\n",
    "    </tr>\n",
    "    <tr>\n",
    "        <td> < </td>\n",
    "        <td>Less than</td>\n",
    "    </tr>\n",
    "    <tr>\n",
    "        <td>>=</td>\n",
    "        <td>Greater than or equal to</td>\n",
    "    </tr>\n",
    "    <tr>\n",
    "        <td><=</td>\n",
    "        <td>Less than or equal to</td>\n",
    "    </tr>\n",
    "    <tr>\n",
    "        <td>!=</td>\n",
    "        <td>Not equal to</td>\n",
    "    </tr>\n",
    "\n",
    "</table>\n",
    "\n"
   ]
  },
  {
   "cell_type": "markdown",
   "metadata": {},
   "source": [
    "<h4>Example problem</h4>\n",
    "On Tuesdays and Thursdays Bikram has to go to class at 9 am. Write a statement below to tell Bikram to go to class if it is a Tuesday or Thursday. "
   ]
  },
  {
   "cell_type": "code",
   "execution_count": null,
   "metadata": {},
   "outputs": [],
   "source": [
    "#Statement: It is a Tuesday or Thursday. \n",
    "##Write True/False to define the statement below.\n",
    "statement =\n",
    "\n",
    "#write an if statement to tell Bikram to go to class\n",
    "\n",
    "\n",
    "\n",
    "\n",
    "\n"
   ]
  },
  {
   "cell_type": "markdown",
   "metadata": {},
   "source": [
    "\n",
    "<h3>If, else statements</h3>\n",
    "<p>If, else statements build on the if statement. If the condition is not fulfilled, the code executes the else statement.</p>\n",
    "\n",
    "```python\n",
    "#improving on the earlier example\n",
    "mynumber = 5\n",
    "if mynumber == 5:\n",
    "    print 'My number is 5'\n",
    "else:\n",
    "    print 'My number is not 5'\n",
    "\n",
    "#there is also the elif (else, if) statement\n",
    "if mynumber == 5:\n",
    "    print 'My number is 5'\n",
    "elif mynumber == 4:\n",
    "    print 'My number is 4\n",
    "else:\n",
    "    print 'My number is not 4 or 5'\n",
    "```"
   ]
  },
  {
   "cell_type": "markdown",
   "metadata": {},
   "source": [
    "<h4>Example problem: Part 2</h4>\n",
    "On Mondays, Wednesdays and Fridays, Bikram goes to the gym. Write and if, else statement to tell Bikram to go to class if it is Tuesday or Thursday, or to go to the gym if it is Monday, Wednesday or Friday."
   ]
  },
  {
   "cell_type": "code",
   "execution_count": null,
   "metadata": {},
   "outputs": [],
   "source": [
    "#Statement: It is a Tuesday or Thursday. Write True/False to define the statement below.\n",
    "statement = \n",
    "\n",
    "#write an if/else statement to tell Bikram to go to class if it is Tuesday or Thursday and if not (else) to the gym\n",
    "\n",
    "\n",
    "\n",
    "\n",
    "\n"
   ]
  },
  {
   "cell_type": "markdown",
   "metadata": {},
   "source": [
    "<h3>And, or, not</h3>\n",
    "<p>In conditional statements you can use the terms 'and', 'or' and 'not' for more complex conditions.</p>\n",
    "<h4>Examples</h4>\n",
    "\n",
    "```python\n",
    "#cond1: Nicholas is in the lab.\n",
    "#cond2: Students are in the lab.\n",
    "\n",
    "if cond1 and cond2:\n",
    "    print 'Nicholas stays in the lab.'\n",
    "\n",
    "if cond1 or cond2:\n",
    "    print 'Someone is in the lab.'\n",
    "    \n",
    "if cond1 and not cond2:\n",
    "    print 'Nicholas goes back to his office.'\n",
    "    \n",
    "```"
   ]
  },
  {
   "cell_type": "markdown",
   "metadata": {},
   "source": [
    "<h3>While loops</h3>\n",
    "<p>Sometimes you may want to repeat a section of code until a certain condition is met. While loops test for a condition and then iterate (repeat) over the code until the condition is met.</p>\n"
   ]
  },
  {
   "cell_type": "code",
   "execution_count": null,
   "metadata": {},
   "outputs": [],
   "source": [
    "#run this cell to see a while loop in action\n",
    "#count up until a specific number\n",
    "number = 1\n",
    "\n",
    "while number < 10:\n",
    "    number = number + 1\n",
    "\n",
    "print(number)"
   ]
  },
  {
   "cell_type": "markdown",
   "metadata": {},
   "source": [
    "<b>Notice how we print the number 10. What happens if we use the <= symbol? Test your answer by editing the code above.</b>"
   ]
  },
  {
   "cell_type": "markdown",
   "metadata": {},
   "source": [
    "<h4>Example problem</h4>\n",
    "During advent, Hannah and Mackayla get 2 pieces of chocolate every morning until Christmas. Use a while loop to add up all the candy they get until the 25th."
   ]
  },
  {
   "cell_type": "code",
   "execution_count": null,
   "metadata": {},
   "outputs": [],
   "source": [
    "#variable for the date\n",
    "DecDate = 1\n",
    "#the amount of candy Hannah and Mackayla have eaten\n",
    "candy = 0\n",
    "\n",
    "#fill in the while loop below to increase the date each day and add up the amount of candy the girls are getting\n",
    "while :\n",
    "    \n",
    "    \n",
    "    #don't forget to increase DecDate every iteration\n",
    "    \n",
    "    \n",
    "print(candy)\n",
    "\n",
    "\n"
   ]
  },
  {
   "cell_type": "markdown",
   "metadata": {},
   "source": [
    "<b>Be careful with while loops, because they can run infinitely if the condition is never met.</b>\n",
    "<p>To stop a code from running in Jupyter go to Kernel -> Interrupt</p>"
   ]
  },
  {
   "cell_type": "markdown",
   "metadata": {},
   "source": [
    "<h3>For loops</h3>\n",
    "<p>Another (often preferable) method of iterating over a block of code is using a for loop. The advantage of the for loop is that <b>the code repeats a finite number of times</b>, which lowers the risk of stalling the code or using too much memory.<br><br>\n",
    "    <b>There are several methods to assign the number of loops in a for loop.</b><br>\n",
    "    1) The simplest method is to use the range function. range(y) creates a list of numbers starting at 0 and ending at <i>y-1</i>. <br>\n",
    "    2) Alternatively range(x,y) creates a series of numbers starting at <i>x</i> and ending at <i>y-1</i> and range(x,y,z) creates a list of numbers starting at <i>x</i>, ending at <i>y-1</i>, and increasing by <i>z</i></p>"
   ]
  },
  {
   "cell_type": "code",
   "execution_count": null,
   "metadata": {},
   "outputs": [],
   "source": [
    "##run this cell to see the output\n",
    "print('range(5)')\n",
    "\n",
    "for i in range(5):\n",
    "    print(i, end=' ')\n",
    "\n",
    "print('\\nNote how the last number is the first digit is zero and the last digit is the range minus one.\\n')\n",
    "\n",
    "print('range(1,5)')\n",
    "\n",
    "for i in range(1,5):\n",
    "    print(i, end=' ')\n",
    "\n",
    "print('\\n\\nrange(1,6,2)')\n",
    "\n",
    "for i in range(1,6,2):\n",
    "    print(i, end=' ')\n",
    "    \n",
    "print('\\nNote how the step (2) is added starting at the first number (1)')"
   ]
  },
  {
   "cell_type": "markdown",
   "metadata": {},
   "source": [
    "<p>3) Another method is to iterate over an object with discrete units, like a string or a list (which will be covered later).</p>"
   ]
  },
  {
   "cell_type": "code",
   "execution_count": null,
   "metadata": {},
   "outputs": [],
   "source": [
    "#run this cell to iterate over a string\n",
    "mystring = 'abcdefghijklmnopqrstuvwxyz'\n",
    "\n",
    "for i in mystring:\n",
    "    print(i, end=' ')"
   ]
  },
  {
   "cell_type": "markdown",
   "metadata": {},
   "source": [
    "<h3>Try, except</h3>\n",
    "<p>The try/except statement is meant for catching and preventing errors. If an error occurs during the block of code under try, the code will continue to the except block instead of giving an error. The except block can be used to print your own statement related to the error or it can be used to skip to the next block of code or break a loop. <i>This statement is not to be used lightly.</i></p>\n",
    "<h4>See an example below</h4>"
   ]
  },
  {
   "cell_type": "code",
   "execution_count": null,
   "metadata": {},
   "outputs": [],
   "source": [
    "#run this cell to see the error\n",
    "for i in range(20):\n",
    "    print(1.0/i)"
   ]
  },
  {
   "cell_type": "code",
   "execution_count": null,
   "metadata": {},
   "outputs": [],
   "source": [
    "#run this cell to see how the try statement works\n",
    "for i in range(7):\n",
    "    try:\n",
    "        print(1.0/i)\n",
    "        \n",
    "    except:\n",
    "        #continue causes the program to go to the next iteration\n",
    "        continue"
   ]
  },
  {
   "cell_type": "markdown",
   "metadata": {},
   "source": [
    "You can also use 'break' and 'pass' which stop the loop and ignore the error respectively.\n",
    "\n",
    "https://docs.python.org/3/reference/compound_stmts.html#try"
   ]
  },
  {
   "cell_type": "markdown",
   "metadata": {},
   "source": [
    "<h2>Practice Problems</h2>\n",
    "<h3>Problem 1</h3>\n",
    "<p>Write a command to divide one number by another. Use an if statement to prevent dividing that number by 0. Be sure to test several different numerators and denominators, and note the accuracy of your answers.</p>\n"
   ]
  },
  {
   "cell_type": "code",
   "execution_count": null,
   "metadata": {},
   "outputs": [],
   "source": [
    "##Write a code below to answer the above question\n",
    "#Be sure to comment out your code (explain what each section is doing in comments)\n",
    "numerator = 1\n",
    "denominator = 0\n",
    "\n",
    "\n",
    "\n"
   ]
  },
  {
   "cell_type": "markdown",
   "metadata": {},
   "source": [
    "<h3>Problem 2</h3>\n",
    "<p>Alawiah has two baskets of apples. She never wants Basket 1 to have two or more apples than Basket 2. Write a code that will \"add\" or \"remove\" apples from the baskets until Basket 1 has no more than one extra apple compared to Basket 2. For example if Basket 2 has three apples, Basket 1 cannot have more than four apples. Print the starting and ending number of apples for each basket.</p>"
   ]
  },
  {
   "cell_type": "code",
   "execution_count": null,
   "metadata": {},
   "outputs": [],
   "source": [
    "##Write a code below to answer the above question\n",
    "#Be sure to comment out your code (explain what each section is doing in comments)\n",
    "\n",
    "#use these variables to test different numbers\n",
    "basket1 = 20\n",
    "basket2 = 5\n",
    "\n",
    "\n",
    "\n",
    "\n",
    "\n",
    "\n",
    "\n",
    "\n"
   ]
  },
  {
   "cell_type": "markdown",
   "metadata": {},
   "source": [
    "<h3>Problem 3</h3>\n",
    "On the way to school Adrian and Charlie decide to sing 99 Bottles of Pop on the Wall. Print the last ten verses without typing out 'bottles of pop on the wall' more than once in your code. <b>Hint</b>: when using range() use a negative number to reverse the range. E.g. range(10,0,-1)."
   ]
  },
  {
   "cell_type": "code",
   "execution_count": null,
   "metadata": {},
   "outputs": [],
   "source": [
    "##Write a code below to answer the above question\n",
    "#Be sure to comment out your code (explain what each section is doing in comments)\n",
    "\n",
    "\n",
    "\n",
    "\n",
    "\n"
   ]
  }
 ],
 "metadata": {
  "kernelspec": {
   "display_name": "Python 3",
   "language": "python",
   "name": "python3"
  },
  "language_info": {
   "codemirror_mode": {
    "name": "ipython",
    "version": 3
   },
   "file_extension": ".py",
   "mimetype": "text/x-python",
   "name": "python",
   "nbconvert_exporter": "python",
   "pygments_lexer": "ipython3",
   "version": "3.6.8"
  }
 },
 "nbformat": 4,
 "nbformat_minor": 2
}
