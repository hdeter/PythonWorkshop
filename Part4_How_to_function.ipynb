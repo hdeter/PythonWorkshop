{
 "cells": [
  {
   "cell_type": "markdown",
   "metadata": {},
   "source": [
    "<h1>How to function - Python Tutorial Part 4</h1>\n",
    "<h4>By: Heather S. Deter</h4>"
   ]
  },
  {
   "cell_type": "markdown",
   "metadata": {},
   "source": [
    "A function is a block of reusable code that you can call for a specific task. In fact, you already know how to use functions! print() is a function. You can also make your own functions by defining them in a block of code. \n",
    "\n",
    "```python\n",
    "def MyFunction(input):\n",
    "    return(output)\n",
    "```"
   ]
  },
  {
   "cell_type": "code",
   "execution_count": null,
   "metadata": {},
   "outputs": [],
   "source": [
    "#let's define a function to calculate the percent error\n",
    "##run this cell to store the function\n",
    "def getPercError(calculated,expected):\n",
    "    \n",
    "    #calculate the difference\n",
    "    diff = calculated - expected\n",
    "    \n",
    "    #make sure number is positive\n",
    "    if diff < 1:\n",
    "        diff = diff*-1\n",
    "    \n",
    "    percerror = diff/expected * 100\n",
    "    \n",
    "    return percerror"
   ]
  },
  {
   "cell_type": "code",
   "execution_count": null,
   "metadata": {},
   "outputs": [],
   "source": [
    "#run this cell to test our function\n",
    "calculated = 90\n",
    "expected = 100\n",
    "\n",
    "percerror = getPercError(calculated,expected)\n",
    "print(percerror, '%')"
   ]
  },
  {
   "cell_type": "markdown",
   "metadata": {},
   "source": [
    "<b>Functions can return muliple values simply by placing a comma between the values you are returning. For example, if we wanted to also return the difference in our function above we could change it as follows.</b>"
   ]
  },
  {
   "cell_type": "code",
   "execution_count": null,
   "metadata": {},
   "outputs": [],
   "source": [
    "##run this cell to store the function\n",
    "def getDiffError(calculated,expected):\n",
    "    \n",
    "    #calculate the difference\n",
    "    diff = calculated - expected\n",
    "    \n",
    "    #make sure number is positive\n",
    "    if diff < 1:\n",
    "        diff = diff*-1\n",
    "    \n",
    "    percerror = diff/expected * 100\n",
    "    \n",
    "    #added diff to be returned\n",
    "    return diff, percerror"
   ]
  },
  {
   "cell_type": "code",
   "execution_count": null,
   "metadata": {},
   "outputs": [],
   "source": [
    "#run this cell to test our function\n",
    "calculated = 180\n",
    "expected = 200\n",
    "\n",
    "#we can still only assign the output to one variable\n",
    "answer = getDiffError(calculated,expected)\n",
    "print(answer)\n",
    "\n",
    "#or we can give the function two variables to call\n",
    "diff, percerror = getDiffError(calculated,expected)\n",
    "print(diff, 'difference and ', percerror, '% error')"
   ]
  },
  {
   "cell_type": "markdown",
   "metadata": {},
   "source": [
    "<h3>Importing libraries</h3>\n",
    "<p>A library, also known as a package, is a group of built-in modules that provide functions for common (and sometimes uncommon) use. They may be written in C to provide access to system functionality that would otherwise be inaccessible or in Python to provide standardized solutions for common problems. For more in-depth information see <a>https://realpython.com/python-modules-packages/</a>\n",
    "\n",
    "To use a library, it must first be imported so that the program you are working on can access it. Some libraries have to be installed, but Anaconda provides many libraries in it's initial instillation, a few of which we will be using here.</p>\n"
   ]
  },
  {
   "cell_type": "code",
   "execution_count": null,
   "metadata": {},
   "outputs": [],
   "source": [
    "##run this cell\n",
    "#if the library is installed in your system you can import it by calling the name\n",
    "import math\n",
    "\n",
    "#you can designate a shortened name to call a specific library by using \"as\"\n",
    "import numpy as np\n",
    "\n",
    "#you can import a section of a library (rather than the whole thing) using \"from\"\n",
    "from scipy import stats\n",
    "\n",
    "\n",
    "print('Yay, you imported things')"
   ]
  },
  {
   "cell_type": "markdown",
   "metadata": {},
   "source": [
    "<h3>Math</h3>\n",
    "A lot of mathmatical calculations are difficult to write out in python by hand since the operators are somewhat limited. Math takes care of that problem by providing several functions that are commonly used for math. See this link for details.\n",
    "<a>https://docs.python.org/3.7/library/math.html</a>\n",
    "\n"
   ]
  },
  {
   "cell_type": "code",
   "execution_count": null,
   "metadata": {},
   "outputs": [],
   "source": [
    "##run this cell\n",
    "\n",
    "#you can get the square root of a number\n",
    "print(math.sqrt(4))\n",
    "\n",
    "#find the logarithm of a number\n",
    "print(math.log(10))\n",
    "\n",
    "#use constants like pi\n",
    "print(math.pi)"
   ]
  },
  {
   "cell_type": "markdown",
   "metadata": {},
   "source": [
    "<h4>Practice</h4>\n",
    "<p>Solve the follwing using math:<br>\n",
    "1) Find r if r = &#8730;29<br>\n",
    "    2) Find y if y = \t&#960;r<sup>2</sup><br>\n",
    "3) a = 8!<br>\n",
    "&emsp;b = 9!<br>\n",
    "    &emsp;Find c if a<sub>2</sub> + b<sub>2</sub> = c<sub>2</sub><br><br>\n",
    "Hint: check out the documentation if you need help finding a specific function <a>https://docs.python.org/3/library/math.html</a></p>\n"
   ]
  },
  {
   "cell_type": "code",
   "execution_count": null,
   "metadata": {},
   "outputs": [],
   "source": [
    "##solve the practice problem above in this cell\n",
    "\n",
    "r =\n",
    "\n",
    "y = \n",
    "\n",
    "c =\n",
    "\n",
    "\n",
    "\n",
    "print('1:',r)\n",
    "print('2:',y)\n",
    "print('3:',c)\n"
   ]
  },
  {
   "cell_type": "markdown",
   "metadata": {},
   "source": [
    "<h3>Numpy</h3>\n",
    "<p>If you thought Excel was your best friend, meet Numpy - your new best friend. Everything you could want in a spreadsheet with infinite dimensions and the power of Python. It also includes algebraic functions and other cool features for most of your number crunching needs. Check out the website for all the details <a>http://www.numpy.org/</a>. And see their quickstart tutorial if you have questions <a>https://docs.scipy.org/doc/numpy/user/quickstart.html</a>.</p>\n",
    "\n",
    "<h4>Making Arrays</h4>\n",
    "<p>You can think of an array as a spreadsheet, the only difference is that arrays can have n-dimensions. For now we'll just work with two dimensions.<br>\n",
    "    You can make a numpy array out of a series of lists or import a csv file that you already have ready to go. We'll go over importing csv files later, for now we'll start with lists.<br><br>\n",
    "    Our class from part 3 has gotten their final grades. Let's do some math using numpy to calculate the class grades.</p>\n",
    "   <table align = 'left'>\n",
    "     <tr>\n",
    "         <th>Class Grades</th>\n",
    "        <th></th>\n",
    "    </tr>\n",
    "    <tr>\n",
    "        <th>Student</th>\n",
    "        <th>Midterm</th>\n",
    "        <th>Final</th>\n",
    "        <th></th>\n",
    "    </tr>\n",
    "    <tr>\n",
    "        <td>Greg</td>\n",
    "        <td>95</td>\n",
    "        <td>94</td>\n",
    "    </tr>\n",
    "    <tr>\n",
    "        <td>Sarah</td>\n",
    "        <td>95</td>\n",
    "        <td>97</td>\n",
    "    </tr>\n",
    "    <tr>\n",
    "        <td>Colleen</td>\n",
    "        <td>87</td>\n",
    "        <td>95</td>\n",
    "    </tr>\n",
    "    <tr>\n",
    "        <td>Lenard</td>\n",
    "        <td>84</td>\n",
    "        <td>88</td>\n",
    "    </tr>\n",
    "    <tr>\n",
    "        <td>Lydia</td>\n",
    "        <td>91</td>\n",
    "        <td>93</td>\n",
    "    </tr>\n",
    "    <tr>\n",
    "        <td>Johnny</td>\n",
    "        <td>89</td>\n",
    "        <td>85</td>\n",
    "    </tr>\n",
    "\n",
    "</table>"
   ]
  },
  {
   "cell_type": "code",
   "execution_count": null,
   "metadata": {},
   "outputs": [],
   "source": [
    "##run this cell\n",
    "\n",
    "#first we make a list of lists for the table above\n",
    "ClassGrades = [['Greg','Sarah','Colleen','Lenard','Lydia','Johnny'],[95,95,87,84,91,89],[94,97,95,88,93,85]]\n",
    "\n",
    "#now we can make a numpy array\n",
    "classgrades = np.array(ClassGrades)\n",
    "\n",
    "print(classgrades)"
   ]
  },
  {
   "cell_type": "markdown",
   "metadata": {},
   "source": [
    "<p>You can also initialize an empty array or an array full of ones or zeros using the commands below. You indicate shape in parenthesis and can include dtype (optional) using dtype = dtype. The default dtype is float64</p>"
   ]
  },
  {
   "cell_type": "code",
   "execution_count": null,
   "metadata": {},
   "outputs": [],
   "source": [
    "#make an empty array\n",
    "empty = np.empty((1,3),dtype=int)\n",
    "ones = np.ones((3,2))\n",
    "zeros = np.zeros((2,3))\n",
    "                 \n",
    "print('Empty\\n', empty)\n",
    "print('Ones\\n', ones)\n",
    "print('Zeros\\n', zeros)\n",
    "\n",
    "#you can also fill an array with a specified value\n",
    "empty.fill(12)\n",
    "\n",
    "print('Filled\\n', empty)"
   ]
  },
  {
   "cell_type": "markdown",
   "metadata": {},
   "source": [
    "<i>Note that empty doesn't really mean empty, it just consists of random numbers and should be used with caution.</i>\n",
    "\n",
    "<h4>Working with Arrays</h4>\n",
    "<p>There are several key features of arrays to know when working with arrays. The most important thing is knowing the shape and type of your array.</p>"
   ]
  },
  {
   "cell_type": "code",
   "execution_count": null,
   "metadata": {},
   "outputs": [],
   "source": [
    "# find the shape of our array using array.shape\n",
    "print('classgrades.shape',classgrades.shape)\n",
    "print('Each number corresponds to a dimension (row, columns, etc)\\n')\n",
    "\n",
    "#find the type of array (dtype) using array.dtype\n",
    "print('classgrades.dtype',classgrades.dtype)\n",
    "print('<U7 stands for a unicode string with 7 characters. An array must have the same dtype throughout.')"
   ]
  },
  {
   "cell_type": "markdown",
   "metadata": {},
   "source": [
    "<p>When working with 2D arrays it is very important to keep in mind that the <b>first axis (0) corresponds to rows</b> and the <b>second axis (1) corresponds to columns.</b></p>\n",
    "<p>Since numpy arrays must be one type and our array has strings all of the values are considered strings.</p>\n",
    "<h4>Slicing arrays</h4>\n",
    "<p>Arrays can be sliced just like lists can be sliced, except now we can have more than one coordinate. <i>Remember to start counting at zero.</i></p>"
   ]
  },
  {
   "cell_type": "code",
   "execution_count": null,
   "metadata": {},
   "outputs": [],
   "source": [
    "#get only the grades from our array\n",
    "grades = classgrades[1:,:]\n",
    "\n",
    "print(grades)\n",
    "print(grades.dtype)"
   ]
  },
  {
   "cell_type": "markdown",
   "metadata": {},
   "source": [
    "<h4>Converting arrays</h4>\n",
    "Notice how the dytpe of grades is unicode string even though they are all numbers. This is because arrays have a single dtype and the names were all strings. To convert an array use the command array.astype(dtype).\n",
    "<br><br>Now we can convert the array to a type that we can work with, floats. To do so we can do the following."
   ]
  },
  {
   "cell_type": "code",
   "execution_count": null,
   "metadata": {},
   "outputs": [],
   "source": [
    "grades = grades.astype(float)\n",
    "\n",
    "print(grades)\n",
    "print(grades.shape)\n",
    "print(grades.dtype)"
   ]
  },
  {
   "cell_type": "markdown",
   "metadata": {},
   "source": [
    "<h4>Using numpy for calculations</h4>\n",
    "<p>There are several useful features for common calculations.</p>"
   ]
  },
  {
   "cell_type": "code",
   "execution_count": null,
   "metadata": {},
   "outputs": [],
   "source": [
    "#Calculate averages\n",
    "MidtermAvg = np.mean(grades[0,:])\n",
    "FinalAvg = np.mean(grades[1,:])\n",
    "\n",
    "print('Averages\\nMidterm:', MidtermAvg, '\\nFinal:', FinalAvg)\n",
    "\n",
    "#calculate standard deviation\n",
    "MidtermStd = np.std(grades[0,:])\n",
    "FinalStd = np.std(grades[1,:])\n",
    "\n",
    "print('\\nStandard deviations\\nMidterm:', MidtermStd, '\\nFinal:', FinalStd)\n",
    "\n",
    "#calculate minimum\n",
    "MidtermMin = np.min(grades[0,:])\n",
    "FinalMin = np.min(grades[1,:])\n",
    "\n",
    "print('\\nMinimum\\nMidterm:', MidtermMin, '\\nFinal:', FinalMin)\n",
    "\n",
    "#calculate minimum\n",
    "MidtermMax = np.max(grades[0,:])\n",
    "FinalMax = np.max(grades[1,:])\n",
    "\n",
    "print('\\nMaximum\\nMidterm:', MidtermMax, '\\nFinal:', FinalMax)"
   ]
  },
  {
   "cell_type": "code",
   "execution_count": null,
   "metadata": {},
   "outputs": [],
   "source": [
    "#most formulas also allow you to apply them to a specific axis\n",
    "Avgs = np.mean(grades,axis = 1)\n",
    "print('Midterm, Final\\n',Avgs)"
   ]
  },
  {
   "cell_type": "code",
   "execution_count": null,
   "metadata": {},
   "outputs": [],
   "source": [
    "#you can also do calculations elementwise (each cell is multiplied by the corresponding cell in the matrix)\n",
    "\n",
    "#subtraction\n",
    "Gradediff = grades[1,:] - grades[0,:]\n",
    "\n",
    "print('Differences', Gradediff.astype(int))\n",
    "\n",
    "#addition\n",
    "Gradeproduct = grades[1,:] + grades[0,:]\n",
    "\n",
    "#and divide by a consant\n",
    "print('Averages', Gradeproduct/2)"
   ]
  },
  {
   "cell_type": "markdown",
   "metadata": {},
   "source": [
    "<h2>Practice Problems</h2>\n",
    "<h3>Problem 1</h3>\n",
    "Write a function to calculate the average and SEM from a list. Use that function to solve the following problem.<br>\n",
    "How to calculate SEM: <a>https://en.wikipedia.org/wiki/Standard_error#Population</a>\n"
   ]
  },
  {
   "cell_type": "code",
   "execution_count": null,
   "metadata": {},
   "outputs": [],
   "source": [
    "#define your function\n",
    "##don't forget the run the cell afterwards to store the function\n",
    "\n",
    "def myfunc(mylist):\n",
    "    #calculate average\n",
    "    \n",
    "    \n",
    "    #calculate SEM\n",
    "    \n",
    "    \n",
    "    #return answers\n",
    "\n",
    "\n"
   ]
  },
  {
   "cell_type": "markdown",
   "metadata": {},
   "source": [
    "<p>Elise gets into the lab early in the morning to count the number of colonies on her plates (Table 1).<br>\n",
    "    Courtney comes in that afternoon and counts the same plates (Table 2). Calculate and print your answers for the following problems in the cell below.<br><br>\n",
    "    a. Calculate the average and SEM for both Elise's and Courtney's results. <b>Hint:</b> you can use the function we defined earlier.<br>\n",
    "    b. Calculate the percent error.</p>\n",
    "<table align = 'left'>\n",
    "    <tr>\n",
    "        <th>Table 1</th>\n",
    "    </tr>\n",
    "    <tr>\n",
    "        <th>Plate</th>\n",
    "        <th>Colonies</th>\n",
    "        <th></th>\n",
    "    </tr>\n",
    "    <tr>\n",
    "        <td>1</td>\n",
    "        <td>200</td>\n",
    "    </tr>\n",
    "    <tr>\n",
    "        <td>2</td>\n",
    "        <td>232</td>\n",
    "    </tr>\n",
    "    <tr>\n",
    "        <td>3</td>\n",
    "        <td>201</td>\n",
    "    </tr>\n",
    "    <tr>\n",
    "        <td>4</td>\n",
    "        <td>195</td>\n",
    "    </tr>\n",
    "    <tr>\n",
    "        <td>5</td>\n",
    "        <td>225</td>\n",
    "    </tr>\n",
    "    <tr>\n",
    "        <td>6</td>\n",
    "        <td>217</td>\n",
    "    </tr>\n",
    "\n",
    "</table>\n",
    "\n",
    "<table align = 'left'>\n",
    "    <tr>\n",
    "        <th>Table 2</th>\n",
    "    </tr>\n",
    "    <tr>\n",
    "        <th>Plate</th>\n",
    "        <th>Colonies</th>\n",
    "    </tr>\n",
    "    <tr>\n",
    "        <td>1</td>\n",
    "        <td>193</td>\n",
    "    </tr>\n",
    "    <tr>\n",
    "        <td>2</td>\n",
    "        <td>238</td>\n",
    "    </tr>\n",
    "    <tr>\n",
    "        <td>3</td>\n",
    "        <td>195</td>\n",
    "    </tr>\n",
    "    <tr>\n",
    "        <td>4</td>\n",
    "        <td>199</td>\n",
    "    </tr>\n",
    "    <tr>\n",
    "        <td>5</td>\n",
    "        <td>229</td>\n",
    "    </tr>\n",
    "    <tr>\n",
    "        <td>6</td>\n",
    "        <td>213</td>\n",
    "    </tr>\n",
    "</table>"
   ]
  },
  {
   "cell_type": "code",
   "execution_count": null,
   "metadata": {},
   "outputs": [],
   "source": [
    "##Write a code below to answer the above question\n",
    "#Be sure to comment out your code (explain what each section is doing in comments)\n",
    "\n",
    "\n",
    "\n",
    "\n",
    "\n"
   ]
  },
  {
   "cell_type": "markdown",
   "metadata": {},
   "source": [
    "<h3>Problem 2</h3>\n",
    "<p>Initalize a new numpy array then assign it values according to the table below. Then calculate each exam average, each student's average, and the overall average.</p>\n",
    "<table align = 'left'>\n",
    "    <tr>\n",
    "        <th>Exam scores</th>\n",
    "        <th>Louisa</th>\n",
    "        <th>Kurt</th>\n",
    "        <th>Elsie</th>\n",
    "        <th></th>\n",
    "    </tr>\n",
    "    <tr>\n",
    "        <td>Exam 1</td>\n",
    "        <td>92</td>\n",
    "        <td>87</td>\n",
    "        <td>94</td>\n",
    "    </tr>\n",
    "    <tr>\n",
    "        <td>Exam 2</td>\n",
    "        <td>89</td>\n",
    "        <td>91</td>\n",
    "        <td>92</td>\n",
    "    </tr>\n",
    "    <tr>\n",
    "        <td>Exam 3</td>\n",
    "        <td>93</td>\n",
    "        <td>90</td>\n",
    "        <td>97</td>\n",
    "    </tr>\n",
    "\n",
    "</table>"
   ]
  },
  {
   "cell_type": "code",
   "execution_count": null,
   "metadata": {},
   "outputs": [],
   "source": [
    "#initialize a new array and assign the values\n",
    "\n",
    "\n",
    "\n",
    "\n",
    "#calculate the overall average\n",
    "\n",
    "\n",
    "\n",
    "#calculate the exam average (Hint: calculate along one axis)\n",
    "\n",
    "\n",
    "\n",
    "#calculate the student averages (Hint: calculate along one axis)\n",
    "\n",
    "\n",
    "\n",
    "\n",
    "#print out your answers\n",
    "\n",
    "\n"
   ]
  }
 ],
 "metadata": {
  "kernelspec": {
   "display_name": "Python 3",
   "language": "python",
   "name": "python3"
  },
  "language_info": {
   "codemirror_mode": {
    "name": "ipython",
    "version": 3
   },
   "file_extension": ".py",
   "mimetype": "text/x-python",
   "name": "python",
   "nbconvert_exporter": "python",
   "pygments_lexer": "ipython3",
   "version": "3.6.8"
  }
 },
 "nbformat": 4,
 "nbformat_minor": 2
}
