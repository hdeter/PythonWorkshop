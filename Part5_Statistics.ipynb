{
 "cells": [
  {
   "cell_type": "markdown",
   "metadata": {},
   "source": [
    "<h1>Statistics - Python Tutorial Part 5</h1>\n",
    "<h4>By: Heather S. Deter</h4>"
   ]
  },
  {
   "cell_type": "markdown",
   "metadata": {},
   "source": [
    "Python is a good tool for running statistics on a lot of data, and if designed properly, you can write a script to run on multiple datasets.\n",
    "\n",
    "There are a lot of different options for how to run statistics. What's import to learn here is not so much the precise methodology (you can Google which function to use), but more about how to approach statistical analysis from a programming perspective.\n",
    "\n"
   ]
  },
  {
   "cell_type": "markdown",
   "metadata": {},
   "source": [
    "<h3>Importing data</h3>\n",
    "The first thing to do when you need to run statistics is to import your data. Usually in the form of a comma seperated values (csv). Numpy <a>http://www.numpy.org/</a> and pandas <a>http://pandas.pydata.org/</a> are two libraries that are key parts of importing csv files and handling data."
   ]
  },
  {
   "cell_type": "code",
   "execution_count": null,
   "metadata": {},
   "outputs": [],
   "source": [
    "#run this cell\n",
    "\n",
    "import numpy as np\n",
    "import pandas as pd"
   ]
  },
  {
   "cell_type": "markdown",
   "metadata": {},
   "source": [
    "We are going to use some data from a 2015 study on seedlings in Fish Creek. It is important to know the following when you need to import (or export) a file. <br>\n",
    "1) What is your working directory? Your working directory is the directory your Jupyter Home tab is running from.<br>\n",
    "2) Where is your file relative to your working directory?<br>\n",
    "If you are confused about directories check out this explanation: <a>https://www.computerhope.com/jargon/d/director.htm</a><br><br>\n",
    "While there are a number of different ways to import data, one way is to use numpy. <a>https://docs.scipy.org/doc/numpy/reference/generated/numpy.genfromtxt.html</a><br>\n",
    "Another method is to use pandas, which is what we will be using.<br> <a>https://pandas.pydata.org/pandas-docs/stable/reference/api/pandas.read_csv.html</a>"
   ]
  },
  {
   "cell_type": "code",
   "execution_count": null,
   "metadata": {},
   "outputs": [],
   "source": [
    "#import a csv file\n",
    "\n",
    "#set to the path of your CSV file relative to the working directory\n",
    "CSVname = 'C:/Users/owner/Documents/research/scripts/learn-python/FishCreekseedlings2015.csv'\n",
    "\n",
    "#import the CSV file\n",
    "##the delimeter indicates what seperates your values (commas)\n",
    "##skip_header allows us to only import the data - the headers are string but we want our data to be float\n",
    "DATA = pd.read_csv(CSVname)\n",
    "\n",
    "#print the numpy array\n",
    "print(DATA)"
   ]
  },
  {
   "cell_type": "markdown",
   "metadata": {},
   "source": [
    "<h3>T-tests</h3>\n",
    "Now we can run a t-test using scipy, but first we have to import scipy."
   ]
  },
  {
   "cell_type": "code",
   "execution_count": null,
   "metadata": {},
   "outputs": [],
   "source": [
    "#run this cell\n",
    "\n",
    "from scipy import stats"
   ]
  },
  {
   "cell_type": "markdown",
   "metadata": {},
   "source": [
    "We are going to run a Student's t-test. <a>https://docs.scipy.org/doc/scipy/reference/generated/scipy.stats.ttest_ind.html</a>"
   ]
  },
  {
   "cell_type": "code",
   "execution_count": null,
   "metadata": {},
   "outputs": [],
   "source": [
    "#seperate out treated and untreated data\n",
    "Southern = DATA[DATA['Ecotype']=='Southern']\n",
    "Local = DATA[DATA['Ecotype']=='Local']\n",
    "\n",
    "#run the t-test on the CFU/ml column\n",
    "ttest = stats.ttest_ind(Local['Max Height (cm)'],Southern['Max Height (cm)'])\n",
    "print(ttest)"
   ]
  },
  {
   "cell_type": "markdown",
   "metadata": {},
   "source": [
    "<h3>One-way ANOVA</h3>\n",
    "One way to preform a oneway anova is to use scipy f_oneway. <a>https://docs.scipy.org/doc/scipy/reference/generated/scipy.stats.f_oneway.html</a>"
   ]
  },
  {
   "cell_type": "code",
   "execution_count": null,
   "metadata": {},
   "outputs": [],
   "source": [
    "#run a oneway anova\n",
    "statsanova = stats.f_oneway(Local['Max Height (cm)'],Southern['Max Height (cm)'])\n",
    "print(statsanova)"
   ]
  },
  {
   "cell_type": "markdown",
   "metadata": {},
   "source": [
    "Another method is to use statsmodels. <a>https://www.statsmodels.org/devel/examples/notebooks/generated/ols.html</a>"
   ]
  },
  {
   "cell_type": "code",
   "execution_count": null,
   "metadata": {},
   "outputs": [],
   "source": [
    "import statsmodels.api as sm\n",
    "from statsmodels.formula.api import ols"
   ]
  },
  {
   "cell_type": "code",
   "execution_count": null,
   "metadata": {},
   "outputs": [],
   "source": [
    "#first we have to rename the columns to remove spaces\n",
    "DATA.columns = ['Ecotype','Max_Height']\n",
    "\n",
    "#now we run an ANOVA using the ordinary least squares method\n",
    "results = ols('Max_Height ~ Ecotype', data=DATA).fit()\n",
    "\n",
    "#print the ANOVA table\n",
    "print(results.summary())\n",
    "\n",
    "#retrieve the actual pvalue\n",
    "print('\\nPvalues')\n",
    "print(results.pvalues)"
   ]
  },
  {
   "cell_type": "markdown",
   "metadata": {},
   "source": [
    "<h2>Practice Problem</h2>\n",
    "<h3>Problem 1</h3>\n",
    "Go through another dataset, Walley energy. Import the csv file (Walleyenergy.csv) and calculate the average and standard deviation for both near-shore and open-water energy. Run a t-test between the two groups and print the p-value.\n",
    "\n",
    "Here's some help for calculating the mean and standard deviation with pandas: <a>https://pandas.pydata.org/pandas-docs/stable/reference/api/pandas.DataFrame.html</a> <b>Hint:</b> try searching for mean and std under methods.\n"
   ]
  },
  {
   "cell_type": "code",
   "execution_count": null,
   "metadata": {},
   "outputs": [],
   "source": [
    "##Write a code below to answer the above question\n",
    "#Be sure to comment out your code (explain what each section is doing in comments)\n",
    "\n",
    "\n",
    "\n",
    "\n",
    "\n"
   ]
  }
 ],
 "metadata": {
  "kernelspec": {
   "display_name": "Python 3",
   "language": "python",
   "name": "python3"
  },
  "language_info": {
   "codemirror_mode": {
    "name": "ipython",
    "version": 3
   },
   "file_extension": ".py",
   "mimetype": "text/x-python",
   "name": "python",
   "nbconvert_exporter": "python",
   "pygments_lexer": "ipython3",
   "version": "3.6.8"
  }
 },
 "nbformat": 4,
 "nbformat_minor": 2
}
