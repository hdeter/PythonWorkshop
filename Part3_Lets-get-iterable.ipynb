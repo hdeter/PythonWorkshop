{
 "cells": [
  {
   "cell_type": "markdown",
   "metadata": {},
   "source": [
    "<h1>Let's Get Iterable - Python Tutorial Part 3</h1>\n",
    "<h4>By: Heather S. Deter</h4>"
   ]
  },
  {
   "cell_type": "markdown",
   "metadata": {},
   "source": [
    "Objects that are iterable have discrete units that can be counted or looped through using a for loop.\n",
    "\n",
    "<h3>Lists</h3>\n",
    "<p>A list is exactly what it sounds like, a list of objects. Lists are initiated by square brackets [].</p>\n",
    "\n",
    "```python\n",
    "#we can initiate an empty list using []\n",
    "mylist = []\n",
    "\n",
    "#or we can put stuff in our list\n",
    "mylist2 = [1,3,4,7,9]\n",
    "```\n"
   ]
  },
  {
   "cell_type": "code",
   "execution_count": null,
   "metadata": {},
   "outputs": [],
   "source": [
    "#run this cell to see lists in action\n",
    "\n",
    "#define two lists\n",
    "mylist = ['bananas']\n",
    "mylist2 = [3,7,10,19,31]\n",
    "\n",
    "#append the lists to each other\n",
    "mylist3 = mylist + mylist2\n",
    "\n",
    "print('mylist:', mylist)\n",
    "print('mylist2:', mylist2)\n",
    "print('mylist3:', mylist3)"
   ]
  },
  {
   "cell_type": "markdown",
   "metadata": {},
   "source": [
    "<p>Take note of how the list we printed above is shown in square brackets [].<br>\n",
    "There are a variety of useful features when working with lists.</p>"
   ]
  },
  {
   "cell_type": "code",
   "execution_count": null,
   "metadata": {},
   "outputs": [],
   "source": [
    "#we can add a number to our list using append\n",
    "mylist.append(10)\n",
    "\n",
    "#we can combine list using +\n",
    "mylists = mylist + mylist2\n",
    "\n",
    "print('mylist:',mylist)\n",
    "print('mylists:',mylists)"
   ]
  },
  {
   "cell_type": "code",
   "execution_count": null,
   "metadata": {},
   "outputs": [],
   "source": [
    "#You can also do things with lists like sorting them or get the length of the list.\n",
    "sortlist2 = sorted(mylist2)\n",
    "mylist2len = len(mylist2)\n",
    "\n",
    "print('Sorted:',sortlist2)\n",
    "print('Length:', mylist2len)"
   ]
  },
  {
   "cell_type": "markdown",
   "metadata": {},
   "source": [
    "<b>For more information on what you can do with lists see:</b> https://docs.python.org/2/tutorial/datastructures.html"
   ]
  },
  {
   "cell_type": "markdown",
   "metadata": {},
   "source": [
    "<h4>Indexing lists</h4>\n",
    "<p>Similarly to strings, lists have indeces and can be measured by the number of objects they contain.<br>\n",
    "To get a particularly index use square brackets [ ] to slice the list.</p>"
   ]
  },
  {
   "cell_type": "code",
   "execution_count": null,
   "metadata": {},
   "outputs": [],
   "source": [
    "#run this cell to see indexing in action\n",
    "\n",
    "#to get the length of a list use len()\n",
    "length = len(mylist3)\n",
    "\n",
    "#get first object (remember to start counting at 0)\n",
    "first = mylist3[0]\n",
    "\n",
    "#get last object (use - to start at the end, but when counting from the end start at 1)\n",
    "last = mylist3[-1]\n",
    "\n",
    "#get a range of objects (remember the end of the range will stop at 1 less the given number)\n",
    "middle = mylist3[1:-1]\n",
    "\n",
    "print(mylist3)\n",
    "print('Length:', length)\n",
    "print('First:',first)\n",
    "print('Last:',last)\n",
    "print('Middle:',middle)"
   ]
  },
  {
   "cell_type": "markdown",
   "metadata": {},
   "source": [
    "<h4>Example</h4>\n",
    "<p>Make a list of every member in your family in birth order. Print the names of the oldest, youngest and a person in the middle using your list.<br><b>Hint</b>: use len() to get the length of your list and help you find the middle position. To convert a float to an integer use int().</p>"
   ]
  },
  {
   "cell_type": "code",
   "execution_count": null,
   "metadata": {},
   "outputs": [],
   "source": [
    "#write your own code and run the cell\n",
    "\n",
    "\n"
   ]
  },
  {
   "cell_type": "markdown",
   "metadata": {},
   "source": [
    "<h3>Dictionaries</h3>\n",
    "<li>Rather than indexing by position (as in strings and lists), dictionaries index objects by <i>keys</i>.<br>\n",
    "    &emsp;Curly brackets { } are used to initiate and empty dictionary. Then keys are defined before a colon followed by the value and seperated by commas. <br>&emsp;E.g. key:value</li>\n",
    "<li>When iterating over a dictionary, the code will actually iterate over the keys of the dictionary. <br>&emsp;To iterate over both the keys and the values (keys,values) use mydict.items().</li>\n",
    "<li>To call a particular value you can use the key in square brackets. </li>&emsp;E.g. mydict[key]\n",
    "</p>\n"
   ]
  },
  {
   "cell_type": "code",
   "execution_count": null,
   "metadata": {},
   "outputs": [],
   "source": [
    "##run this cell to see dictionaries in action\n",
    "#an empty dictionary\n",
    "mydict = {}\n",
    "\n",
    "#fruit colors\n",
    "fruits = {'apple':'red','orange':'orange','lemon':'yellow','pear':'green','banana':'yellow'}\n",
    "\n",
    "print('mydict:', mydict)\n",
    "print('fruits:',fruits)\n",
    "print('fruits[\\'apple\\']:', fruits['apple'])\n",
    "print('\\nYou can also make a list of keys in a dictionary using list(dict.keys()).')\n",
    "print('fruits keys:', list(fruits.keys()))"
   ]
  },
  {
   "cell_type": "code",
   "execution_count": null,
   "metadata": {},
   "outputs": [],
   "source": [
    "##run this cell to see how to use a for loop with a dictionary\n",
    "print ('key in fruits')\n",
    "for key in fruits:\n",
    "    print(fruits[key])\n",
    "\n",
    "print('\\nkey,value in fruits.items()')\n",
    "\n",
    "for key,value in list(fruits.items()):\n",
    "    print(key, value)"
   ]
  },
  {
   "cell_type": "markdown",
   "metadata": {},
   "source": [
    "<h4>Example</h4>\n",
    "<p>Write your own dictionary for the table below. Is it better to use names or grades as the keys? Why?</p>\n",
    "<table align = 'left'>\n",
    "     <tr>\n",
    "         <th>Class Grades</th>\n",
    "        <th></th>\n",
    "    </tr>\n",
    "    <tr>\n",
    "        <th>Student</th>\n",
    "        <th>Grade</th>\n",
    "        <th></th>\n",
    "    </tr>\n",
    "    <tr>\n",
    "        <td>Greg</td>\n",
    "        <td>95</td>\n",
    "    </tr>\n",
    "    <tr>\n",
    "        <td>Sarah</td>\n",
    "        <td>95</td>\n",
    "    </tr>\n",
    "    <tr>\n",
    "        <td>Colleen</td>\n",
    "        <td>87</td>\n",
    "    </tr>\n",
    "    <tr>\n",
    "        <td>Lenard</td>\n",
    "        <td>84</td>\n",
    "    </tr>\n",
    "    <tr>\n",
    "        <td>Lydia</td>\n",
    "        <td>91</td>\n",
    "    </tr>\n",
    "    <tr>\n",
    "        <td>Johnny</td>\n",
    "        <td>89</td>\n",
    "    </tr>\n",
    "\n",
    "</table>\n"
   ]
  },
  {
   "cell_type": "code",
   "execution_count": null,
   "metadata": {},
   "outputs": [],
   "source": [
    "#Write a dictionary for the class grades.\n",
    "\n",
    "\n",
    "\n",
    "\n"
   ]
  },
  {
   "cell_type": "markdown",
   "metadata": {},
   "source": [
    "Keys have to be unique (you can't have two of the same key), therefore in the above example using names is better because two students have the same grade. <br>For more on dictionaries see: https://docs.python.org/3/tutorial/datastructures.html#dictionaries"
   ]
  },
  {
   "cell_type": "markdown",
   "metadata": {},
   "source": [
    "<h2>Practice problems</h2>\n",
    "<h3>Problem 1</h3>\n",
    "<p><b>Hint:</b> use some functions from <a>https://docs.python.org/2/tutorial/datastructures.html.</a></p>\n",
    "<p>a) You are hosting a party and will be drawing prizes. In the first hour the following people walk in the door: Jonathan, Karly, Sharon, Ted, Amrit, Ben, Vanessa, Ugochi, and Sindhura. Make a list of all the people who are at the party. Draw prizes for the 5th person to show up, the 4th person alphabetically and the second to last person to show up. Print out the winners names and state why they won.</p>\n",
    "<p>b) A few more people walk in the door: Cameron, Greg, Rachel, Renato and Tina. However, it is getting pretty lat so Ben, Karly and Sharon leave. Adjust your original list to account for the people coming and going.  Draw another round of prizes for the people still in the room: the 7th person to show up, the 5th person alphabetically and the 7th from the last person to show up. </p>"
   ]
  },
  {
   "cell_type": "code",
   "execution_count": null,
   "metadata": {},
   "outputs": [],
   "source": [
    "##Write a code below to answer the above question\n",
    "#Be sure to comment out your code (explain what each section is doing in comments)\n",
    "\n",
    "\n",
    "\n",
    "\n"
   ]
  },
  {
   "cell_type": "markdown",
   "metadata": {},
   "source": [
    "<h3>Problem 2</h3>\n",
    "<p>It's poker night! It's your job to keep track of how many chips everyone has as you control the cash for the night. Make a dictionary of the starting chip counts for everybody from the table below. Then keep track as the night goes on.</p>\n",
    "<table align = 'left'>\n",
    "    <tr>\n",
    "        <th>Name</th>\n",
    "        <th>Chips</th>\n",
    "        <th></th>\n",
    "    </tr>\n",
    "    <tr>\n",
    "        <td>Rachel</td>\n",
    "        <td>50</td>\n",
    "    </tr>\n",
    "    <tr>\n",
    "        <td>Scott</td>\n",
    "        <td>75</td>\n",
    "    </tr>\n",
    "    <tr>\n",
    "        <td>Kiana</td>\n",
    "        <td>60</td>\n",
    "    </tr>\n",
    "    <tr>\n",
    "        <td>Jeremiah</td>\n",
    "        <td>50</td>\n",
    "    </tr>\n",
    "    <tr>\n",
    "        <td>Haley</td>\n",
    "        <td>80</td>\n",
    "    </tr>\n",
    "    <tr>\n",
    "        <td>Job</td>\n",
    "        <td>45</td>\n",
    "    </tr>\n",
    "\n",
    "</table>\n",
    "\n",
    "    "
   ]
  },
  {
   "cell_type": "markdown",
   "metadata": {},
   "source": [
    "<p>1) Haley wins 10 chips the first hand and everyone else looses two chips.<br>\n",
    "    2) Scott wins 5 chips from Jeremiah in the second hand.<br>\n",
    "    3) Job and Jeremiah each loose 15 chips to Rachel in the third hand.<br>\n",
    "    4) Jeremiah wins 20 chips from everyone in the fourth hand (4 chips each).<br>\n",
    "    5) Job looses all of his remaining chips to Kiana in the fifth hand.<br><br>\n",
    "    Print how many chips each person currently has left.</p>"
   ]
  },
  {
   "cell_type": "code",
   "execution_count": null,
   "metadata": {},
   "outputs": [],
   "source": [
    "##Write a code below to answer the above question\n",
    "#Be sure to comment out your code (explain what each section is doing in comments)\n",
    "\n",
    "\n",
    "\n",
    "\n"
   ]
  }
 ],
 "metadata": {
  "kernelspec": {
   "display_name": "Python 3",
   "language": "python",
   "name": "python3"
  },
  "language_info": {
   "codemirror_mode": {
    "name": "ipython",
    "version": 3
   },
   "file_extension": ".py",
   "mimetype": "text/x-python",
   "name": "python",
   "nbconvert_exporter": "python",
   "pygments_lexer": "ipython3",
   "version": "3.6.8"
  }
 },
 "nbformat": 4,
 "nbformat_minor": 2
}
